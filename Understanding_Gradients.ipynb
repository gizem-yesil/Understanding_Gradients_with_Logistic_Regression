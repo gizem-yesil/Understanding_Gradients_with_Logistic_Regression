{
  "nbformat": 4,
  "nbformat_minor": 0,
  "metadata": {
    "colab": {
      "provenance": [],
      "authorship_tag": "ABX9TyNWv9vUZblJfEn3MYpOPmQs",
      "include_colab_link": true
    },
    "kernelspec": {
      "name": "python3",
      "display_name": "Python 3"
    },
    "language_info": {
      "name": "python"
    }
  },
  "cells": [
    {
      "cell_type": "markdown",
      "metadata": {
        "id": "view-in-github",
        "colab_type": "text"
      },
      "source": [
        "<a href=\"https://colab.research.google.com/github/gizem-yesil/Understanding_Gradients_with_Logistic_Regression/blob/main/Understanding_Gradients.ipynb\" target=\"_parent\"><img src=\"https://colab.research.google.com/assets/colab-badge.svg\" alt=\"Open In Colab\"/></a>"
      ]
    },
    {
      "cell_type": "code",
      "execution_count": 1,
      "metadata": {
        "id": "1gVXMB8dVDCA"
      },
      "outputs": [],
      "source": [
        "import numpy as np\n",
        "import pandas as pd\n",
        "import matplotlib.pyplot as plt\n",
        "import seaborn as sns\n",
        "from sklearn.datasets import load_breast_cancer\n",
        "from sklearn.model_selection import train_test_split\n",
        "from sklearn.metrics import accuracy_score\n",
        "from sklearn.preprocessing import StandardScaler"
      ]
    },
    {
      "cell_type": "code",
      "source": [
        "data=load_breast_cancer()"
      ],
      "metadata": {
        "id": "7Ldb9Tr6XCXu"
      },
      "execution_count": 2,
      "outputs": []
    },
    {
      "cell_type": "code",
      "source": [
        "X=data.data\n",
        "y=data.target"
      ],
      "metadata": {
        "id": "Ghqj2G5tXFbk"
      },
      "execution_count": 3,
      "outputs": []
    },
    {
      "cell_type": "code",
      "source": [
        "X_train,X_test,y_train,y_test=train_test_split(X,y,test_size=0.2,random_state=42)"
      ],
      "metadata": {
        "id": "E43ev6EZXH93"
      },
      "execution_count": 4,
      "outputs": []
    },
    {
      "cell_type": "code",
      "source": [
        "scaler=StandardScaler()\n",
        "X_train_scaled=scaler.fit_transform(X_train)\n",
        "X_test_scaled=scaler.transform(X_test)"
      ],
      "metadata": {
        "id": "l3GMK0UWXMi6"
      },
      "execution_count": 6,
      "outputs": []
    },
    {
      "cell_type": "code",
      "source": [
        "def sigmoid(z):\n",
        "  return 1/(1+np.exp(-z))"
      ],
      "metadata": {
        "id": "A0ymwawwXP4_"
      },
      "execution_count": 7,
      "outputs": []
    },
    {
      "cell_type": "code",
      "source": [
        "def compute_loss(y,y_pred):\n",
        "  epsilon =1e-5\n",
        "  return -np.mean(y*np.log(y_pred+epsilon)+(1-y)*np.log(1-y_pred+epsilon))"
      ],
      "metadata": {
        "id": "65TUaN7xXbcZ"
      },
      "execution_count": 8,
      "outputs": []
    },
    {
      "cell_type": "code",
      "source": [
        "def compute_gradients(X,y,y_pred):\n",
        "  return np.dot(X.T,(y_pred-y))/len(y)"
      ],
      "metadata": {
        "id": "SEbNINmWXrgJ"
      },
      "execution_count": 12,
      "outputs": []
    },
    {
      "cell_type": "code",
      "source": [
        "def gradient_descent(X,y,learning_rate=0.01,epochs=100):\n",
        "  weights=np.zeros(X.shape[1])\n",
        "  bias=0\n",
        "\n",
        "  grad_tracking= {'iteration': [] , 'feature 1 gradient': [], 'loss': []}\n",
        "\n",
        "  for epoch in range(epochs):\n",
        "    z=np.dot(X,weights)+bias\n",
        "    y_pred=sigmoid(z)\n",
        "    loss=compute_loss(y,y_pred)\n",
        "    dw=compute_gradients(X,y,y_pred)\n",
        "    db=np.mean(y_pred-y)\n",
        "\n",
        "    grad_tracking['iteration'].append(epoch+1)\n",
        "    grad_tracking['feature 1 gradient'].append(dw[0])\n",
        "    grad_tracking['loss'].append(loss)\n",
        "\n",
        "\n",
        "    weights-=learning_rate*dw\n",
        "    bias-=learning_rate*db\n",
        "\n",
        "  return grad_tracking\n",
        "\n"
      ],
      "metadata": {
        "id": "6rRtFt5uYSHu"
      },
      "execution_count": 10,
      "outputs": []
    },
    {
      "cell_type": "code",
      "source": [
        "#learning_rate=0.1 , epochs=100\n",
        "grad_tracking=gradient_descent(X_train_scaled,y_train,learning_rate=0.1,epochs=100)"
      ],
      "metadata": {
        "id": "DwIOhMcBasp5"
      },
      "execution_count": 17,
      "outputs": []
    },
    {
      "cell_type": "code",
      "source": [
        "grad_tracking_df=pd.DataFrame(grad_tracking)\n",
        "print(grad_tracking_df)"
      ],
      "metadata": {
        "colab": {
          "base_uri": "https://localhost:8080/"
        },
        "id": "pritAPwsa6sX",
        "outputId": "6ecf6b7e-0340-465b-a6af-5daa6dde278b"
      },
      "execution_count": 15,
      "outputs": [
        {
          "output_type": "stream",
          "name": "stdout",
          "text": [
            "    iteration  feature 1 gradient      loss\n",
            "0           1            0.346963  0.693127\n",
            "1           2            0.250376  0.527516\n",
            "2           3            0.196769  0.441138\n",
            "3           4            0.163503  0.387700\n",
            "4           5            0.140597  0.350752\n",
            "..        ...                 ...       ...\n",
            "95         96            0.010033  0.108377\n",
            "96         97            0.009923  0.108025\n",
            "97         98            0.009816  0.107678\n",
            "98         99            0.009711  0.107337\n",
            "99        100            0.009608  0.107001\n",
            "\n",
            "[100 rows x 3 columns]\n"
          ]
        }
      ]
    },
    {
      "cell_type": "code",
      "source": [
        "#learning_rate=0.01 , epochs=100\n",
        "grad_tracking=gradient_descent(X_train_scaled,y_train,learning_rate=0.01,epochs=100)\n",
        "grad_tracking_df=pd.DataFrame(grad_tracking)\n",
        "print(grad_tracking_df)"
      ],
      "metadata": {
        "colab": {
          "base_uri": "https://localhost:8080/"
        },
        "id": "g0rOkTEYbE7P",
        "outputId": "04c5e88b-fcf1-4166-b9d6-7fc2e7514c8d"
      },
      "execution_count": 19,
      "outputs": [
        {
          "output_type": "stream",
          "name": "stdout",
          "text": [
            "    iteration  feature 1 gradient      loss\n",
            "0           1            0.346963  0.693127\n",
            "1           2            0.336617  0.673916\n",
            "2           3            0.326640  0.655887\n",
            "3           4            0.317060  0.638961\n",
            "4           5            0.307888  0.623058\n",
            "..        ...                 ...       ...\n",
            "95         96            0.085450  0.259625\n",
            "96         97            0.084800  0.258520\n",
            "97         98            0.084160  0.257431\n",
            "98         99            0.083530  0.256357\n",
            "99        100            0.082909  0.255299\n",
            "\n",
            "[100 rows x 3 columns]\n"
          ]
        }
      ]
    },
    {
      "cell_type": "code",
      "source": [
        "#learning_rate=0.001 , epochs=100\n",
        "grad_tracking=gradient_descent(X_train_scaled,y_train,learning_rate=0.001,epochs=100)\n",
        "grad_tracking_df=pd.DataFrame(grad_tracking)\n",
        "print(grad_tracking_df)\n"
      ],
      "metadata": {
        "colab": {
          "base_uri": "https://localhost:8080/"
        },
        "id": "p1knzsT6bgVw",
        "outputId": "2a1e62a8-5df3-4003-d2ce-e299e8e74929"
      },
      "execution_count": 20,
      "outputs": [
        {
          "output_type": "stream",
          "name": "stdout",
          "text": [
            "    iteration  feature 1 gradient      loss\n",
            "0           1            0.346963  0.693127\n",
            "1           2            0.345928  0.691178\n",
            "2           3            0.344896  0.689242\n",
            "3           4            0.343867  0.687318\n",
            "4           5            0.342841  0.685405\n",
            "..        ...                 ...       ...\n",
            "95         96            0.265483  0.552141\n",
            "96         97            0.264805  0.551030\n",
            "97         98            0.264130  0.549925\n",
            "98         99            0.263458  0.548826\n",
            "99        100            0.262789  0.547733\n",
            "\n",
            "[100 rows x 3 columns]\n"
          ]
        }
      ]
    },
    {
      "cell_type": "code",
      "source": [],
      "metadata": {
        "id": "s24PHvs9byBg"
      },
      "execution_count": null,
      "outputs": []
    }
  ]
}